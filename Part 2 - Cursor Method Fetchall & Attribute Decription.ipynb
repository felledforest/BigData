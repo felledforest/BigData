{
 "cells": [
  {
   "cell_type": "code",
   "execution_count": 1,
   "id": "ebb07490",
   "metadata": {},
   "outputs": [],
   "source": [
    "import sqlite3\n",
    "import pandas as pd"
   ]
  },
  {
   "cell_type": "code",
   "execution_count": 2,
   "id": "1ba90e42",
   "metadata": {},
   "outputs": [],
   "source": [
    "# Connect to the database\n",
    "conn = sqlite3.connect('books.db')"
   ]
  },
  {
   "cell_type": "code",
   "execution_count": 3,
   "id": "5367165d",
   "metadata": {},
   "outputs": [
    {
     "data": {
      "text/plain": [
       "<sqlite3.Cursor at 0x1f52466e340>"
      ]
     },
     "execution_count": 3,
     "metadata": {},
     "output_type": "execute_result"
    }
   ],
   "source": [
    "# Create a cursor object\n",
    "cursor = conn.cursor()\n",
    "\n",
    "# Execute the query to select all data from the \"titles\" table\n",
    "cursor.execute('SELECT * FROM titles')"
   ]
  },
  {
   "cell_type": "code",
   "execution_count": 4,
   "id": "9a00e4e6",
   "metadata": {
    "scrolled": true
   },
   "outputs": [
    {
     "name": "stdout",
     "output_type": "stream",
     "text": [
      "         isbn                             title  edition copyright\n",
      "0  0135404673     Intro to Python for CS and DS        1      2020\n",
      "1  0132151006     Internet & WWW How to Program        5      2012\n",
      "2  0134743350               Java How to Program       11      2018\n",
      "3  0133976890                  C How to Program        8      2016\n",
      "4  0133406954  Visual Basic 2012 How to Program        6      2014\n",
      "5  0134601548          Visual C# How to Program        6      2017\n",
      "6  0136151574         Visual C++ How to Program        2      2008\n",
      "7  0134448235                C++ How to Program       10      2017\n",
      "8  0134444302            Android How to Program        3      2017\n",
      "9  0134289366         Android 6 for Programmers        3      2016\n"
     ]
    }
   ],
   "source": [
    "# Fetch all data\n",
    "data = cursor.fetchall()\n",
    "\n",
    "# Get the column names from the description attribute and store in list\n",
    "columns = [column[0] for column in cursor.description]\n",
    "\n",
    "# Create a dataframe from the data\n",
    "df = pd.DataFrame(data, columns=columns)\n",
    "\n",
    "# Display the dataframe\n",
    "print(df)"
   ]
  }
 ],
 "metadata": {
  "kernelspec": {
   "display_name": "Python 3 (ipykernel)",
   "language": "python",
   "name": "python3"
  },
  "language_info": {
   "codemirror_mode": {
    "name": "ipython",
    "version": 3
   },
   "file_extension": ".py",
   "mimetype": "text/x-python",
   "name": "python",
   "nbconvert_exporter": "python",
   "pygments_lexer": "ipython3",
   "version": "3.10.7"
  }
 },
 "nbformat": 4,
 "nbformat_minor": 5
}
