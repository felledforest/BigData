{
 "cells": [
  {
   "cell_type": "code",
   "execution_count": 1,
   "id": "17789b88",
   "metadata": {},
   "outputs": [],
   "source": [
    "import pandas as pd\n",
    "import sqlite3"
   ]
  },
  {
   "cell_type": "code",
   "execution_count": 2,
   "id": "3b986fa2",
   "metadata": {},
   "outputs": [],
   "source": [
    "# Connect to the database\n",
    "conn = sqlite3.connect('books.db')"
   ]
  },
  {
   "cell_type": "code",
   "execution_count": 3,
   "id": "9ccf4875",
   "metadata": {},
   "outputs": [
    {
     "name": "stdout",
     "output_type": "stream",
     "text": [
      "0      Wald\n",
      "1     Quirk\n",
      "2    Deitel\n",
      "3    Deitel\n",
      "4    Deitel\n",
      "Name: last, dtype: object\n"
     ]
    }
   ],
   "source": [
    "# A) \n",
    "# Query the authors table and retrieve the last names\n",
    "query = \"SELECT last FROM authors ORDER BY last DESC\"\n",
    "authors_df = pd.read_sql_query(query, conn)\n",
    "last_names = authors_df['last']\n",
    "\n",
    "print(last_names)"
   ]
  },
  {
   "cell_type": "code",
   "execution_count": 4,
   "id": "34f19164",
   "metadata": {},
   "outputs": [
    {
     "name": "stdout",
     "output_type": "stream",
     "text": [
      "0           Android 6 for Programmers\n",
      "1              Android How to Program\n",
      "2                    C How to Program\n",
      "3                  C++ How to Program\n",
      "4       Internet & WWW How to Program\n",
      "5       Intro to Python for CS and DS\n",
      "6                 Java How to Program\n",
      "7    Visual Basic 2012 How to Program\n",
      "8            Visual C# How to Program\n",
      "9           Visual C++ How to Program\n",
      "Name: title, dtype: object\n"
     ]
    }
   ],
   "source": [
    "# B)\n",
    "# Query the titles table and retrieve the titles\n",
    "query = \"SELECT title FROM titles ORDER BY title ASC\"\n",
    "titles_df = pd.read_sql_query(query, conn)\n",
    "book_titles = titles_df['title']\n",
    "\n",
    "print(book_titles)"
   ]
  },
  {
   "cell_type": "code",
   "execution_count": 5,
   "id": "1d7613ec",
   "metadata": {},
   "outputs": [
    {
     "name": "stdout",
     "output_type": "stream",
     "text": [
      "                       title copyright        isbn\n",
      "0  Visual C++ How to Program      2008  0136151574\n"
     ]
    }
   ],
   "source": [
    "# C)\n",
    "# Select author by last name \n",
    "author_last_name = \"Quirk\"\n",
    "\n",
    "# Query using INNER JOIN to retrieve the books for the specific author\n",
    "query = \"\"\"\n",
    "SELECT titles.title, titles.copyright, author_ISBN.isbn\n",
    "FROM titles\n",
    "INNER JOIN author_ISBN ON titles.isbn = author_ISBN.isbn\n",
    "INNER JOIN authors ON author_ISBN.id = authors.id\n",
    "WHERE authors.last = ?\n",
    "ORDER BY titles.title ASC\n",
    "\"\"\"\n",
    "\n",
    "# Execute the query with the specified parameter\n",
    "books_df = pd.read_sql_query(query, conn, params=[author_last_name])\n",
    "\n",
    "print(books_df)"
   ]
  },
  {
   "cell_type": "code",
   "execution_count": 6,
   "id": "ed8c6d80",
   "metadata": {},
   "outputs": [
    {
     "data": {
      "text/plain": [
       "1"
      ]
     },
     "execution_count": 6,
     "metadata": {},
     "output_type": "execute_result"
    }
   ],
   "source": [
    "# D)\n",
    "# Insert a new author\n",
    "new_author = pd.DataFrame({'first': ['Felled'], 'last': ['Forest']})\n",
    "new_author.to_sql('authors', conn, if_exists='append', index=False)\n"
   ]
  },
  {
   "cell_type": "code",
   "execution_count": 7,
   "id": "cbb41ffb",
   "metadata": {},
   "outputs": [
    {
     "data": {
      "text/plain": [
       "1"
      ]
     },
     "execution_count": 7,
     "metadata": {},
     "output_type": "execute_result"
    }
   ],
   "source": [
    "# E)\n",
    "# Retrieve the author ID for the \"Felled Forest\" author\n",
    "author_id = pd.read_sql_query(\"SELECT id FROM authors WHERE last='Forest'\", conn)['id'][0]\n",
    "\n",
    "# Generate a unique ISBN for the new book\n",
    "new_isbn = '1234567890'\n",
    "\n",
    "# Insert the new book's details into the author_ISBN table\n",
    "new_author_isbn = pd.DataFrame({'id': [author_id], 'isbn': [new_isbn]})\n",
    "new_author_isbn.to_sql('author_ISBN', conn, if_exists='append', index=False)\n",
    "\n",
    "# Insert the new book's details into the titles table\n",
    "new_title = pd.DataFrame({'isbn': [new_isbn], 'title': ['New Book: Passing This Class'], 'edition': [99], 'copyright': ['2077']})\n",
    "new_title.to_sql('titles', conn, if_exists='append', index=False)\n"
   ]
  },
  {
   "cell_type": "code",
   "execution_count": 8,
   "id": "551cda65",
   "metadata": {},
   "outputs": [
    {
     "name": "stdout",
     "output_type": "stream",
     "text": [
      "                          title copyright        isbn   first    last\n",
      "0  New Book: Passing This Class      2077  1234567890  Felled  Forest\n"
     ]
    }
   ],
   "source": [
    "# Select author by last name \n",
    "author_last_name = \"Forest\"\n",
    "\n",
    "# Query using INNER JOIN to retrieve the books for the specific author\n",
    "query = \"\"\"\n",
    "SELECT titles.title, titles.copyright, author_ISBN.isbn, authors.first, authors.last\n",
    "FROM titles\n",
    "INNER JOIN author_ISBN ON titles.isbn = author_ISBN.isbn\n",
    "INNER JOIN authors ON author_ISBN.id = authors.id\n",
    "WHERE authors.last = ?\n",
    "\"\"\"\n",
    "\n",
    "# Execute the query with the specified parameter\n",
    "books_df = pd.read_sql_query(query, conn, params=[author_last_name])\n",
    "\n",
    "print(books_df)"
   ]
  }
 ],
 "metadata": {
  "kernelspec": {
   "display_name": "Python 3 (ipykernel)",
   "language": "python",
   "name": "python3"
  },
  "language_info": {
   "codemirror_mode": {
    "name": "ipython",
    "version": 3
   },
   "file_extension": ".py",
   "mimetype": "text/x-python",
   "name": "python",
   "nbconvert_exporter": "python",
   "pygments_lexer": "ipython3",
   "version": "3.10.7"
  }
 },
 "nbformat": 4,
 "nbformat_minor": 5
}
